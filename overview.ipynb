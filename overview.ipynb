{
 "cells": [
  {
   "cell_type": "code",
   "execution_count": null,
   "metadata": {},
   "outputs": [],
   "source": [
    "import sys\n",
    "sys.path.append('VDAM2022') # Comment out for use\n",
    "from data_processing import ConnDF, default_data\n",
    "from analysis import SummaryDF, GraphDF"
   ]
  },
  {
   "cell_type": "code",
   "execution_count": null,
   "metadata": {},
   "outputs": [],
   "source": [
    "import analysis, data_processing\n",
    "from importlib import reload\n",
    "reload(analysis)\n",
    "reload(data_processing)\n",
    "from analysis import SummaryDF, GraphDF\n",
    "from data_processing import ConnDF"
   ]
  },
  {
   "cell_type": "code",
   "execution_count": null,
   "metadata": {},
   "outputs": [],
   "source": [
    "data = default_data()"
   ]
  },
  {
   "cell_type": "code",
   "execution_count": null,
   "metadata": {},
   "outputs": [],
   "source": [
    "random_data = default_data()"
   ]
  },
  {
   "cell_type": "code",
   "execution_count": null,
   "metadata": {},
   "outputs": [],
   "source": [
    "random_data.conn_master = random_data.randomise(random_data.conn_master)"
   ]
  },
  {
   "cell_type": "code",
   "execution_count": null,
   "metadata": {},
   "outputs": [],
   "source": [
    "random_data.df_as_graph(package='igraph', parallel_edges=False)"
   ]
  },
  {
   "cell_type": "code",
   "execution_count": null,
   "metadata": {},
   "outputs": [],
   "source": [
    "data.df_as_graph(package='igraph', parallel_edges=False)"
   ]
  },
  {
   "cell_type": "code",
   "execution_count": null,
   "metadata": {},
   "outputs": [],
   "source": [
    "data_igraph = data.graph"
   ]
  },
  {
   "cell_type": "code",
   "execution_count": null,
   "metadata": {},
   "outputs": [],
   "source": [
    "random_data_igraph = random_data.graph"
   ]
  },
  {
   "cell_type": "code",
   "execution_count": null,
   "metadata": {},
   "outputs": [],
   "source": [
    "import leidenalg\n",
    "modularity_profile = leidenalg.find_partition(data_igraph, leidenalg.ModularityVertexPartition, weights='weight', n_iterations=-1)"
   ]
  },
  {
   "cell_type": "code",
   "execution_count": null,
   "metadata": {},
   "outputs": [],
   "source": [
    "random_modularity_profile = leidenalg.find_partition(random_data_igraph, leidenalg.ModularityVertexPartition, weights='weight', n_iterations=-1)"
   ]
  },
  {
   "cell_type": "code",
   "execution_count": null,
   "metadata": {},
   "outputs": [],
   "source": [
    "modularity_profile"
   ]
  },
  {
   "cell_type": "code",
   "execution_count": null,
   "metadata": {},
   "outputs": [],
   "source": [
    "data.annotate_top_roi()"
   ]
  },
  {
   "cell_type": "code",
   "execution_count": null,
   "metadata": {},
   "outputs": [],
   "source": [
    "gs = GraphDF(graph=data_igraph, profile=modularity_profile, conndf=data)\n",
    "gs.vertex_df = gs.vertex_df[gs.vertex_df['class'] != 'TBD'] #Remove TBD nodes\n",
    "\n",
    "import pandas as pd\n",
    "gs.vertex_df.rename({'_nx_name': 'bodyId'}, inplace=True, axis=1)\n",
    "gs.vertex_df = pd.merge(gs.vertex_df, data.neuron_master[['bodyId','mainRoi']], on='bodyId', how='left')"
   ]
  },
  {
   "cell_type": "code",
   "execution_count": null,
   "metadata": {},
   "outputs": [],
   "source": [
    "gs.vertex_df.to_csv('with_comm.csv')"
   ]
  },
  {
   "cell_type": "code",
   "execution_count": null,
   "metadata": {},
   "outputs": [],
   "source": [
    "rand_gs = GraphDF(graph=random_data_igraph, profile=random_modularity_profile, conndf=random_data)\n",
    "rand_gs.vertex_df = rand_gs.vertex_df[rand_gs.vertex_df['class'] != 'TBD'] #Remove TBD nodes\n",
    "\n",
    "import pandas as pd\n",
    "rand_gs.vertex_df.rename({'_nx_name': 'bodyId'}, inplace=True, axis=1)\n",
    "rand_gs.vertex_df = pd.merge(rand_gs.vertex_df, data.neuron_master[['bodyId','mainRoi']], on='bodyId', how='left')"
   ]
  },
  {
   "cell_type": "code",
   "execution_count": null,
   "metadata": {},
   "outputs": [],
   "source": [
    "# Get the top counts per ROI\n",
    "counts_roi"
   ]
  },
  {
   "cell_type": "code",
   "execution_count": null,
   "metadata": {},
   "outputs": [],
   "source": [
    "cmap_dict"
   ]
  },
  {
   "cell_type": "code",
   "execution_count": null,
   "metadata": {},
   "outputs": [],
   "source": [
    "order = ['LTct', 'HTct(UTct-T3)(L)', 'ANm', 'LegNp(T3)(R)', 'LegNp(T1)(R)','LegNp(T1)(L)', 'LegNp(T2)(R)','LegNp(T3)(L)','LegNp(T2)(L)','Ov(R)','mVAC(T1)(L)']\n",
    "cols = [list(cmap_dict[x]) for x in order]"
   ]
  },
  {
   "cell_type": "code",
   "execution_count": null,
   "metadata": {},
   "outputs": [],
   "source": [
    "import igraph as ig\n",
    "\n",
    "rand_manual_partition = rand_gs.get_manual_partition(8)\n",
    "#manual_partition.graph.es['color'] = ['red' if x < 0 else 'blue' for x in list(ged['signed_weight'])]\n",
    "#pal = ig.ClusterColoringPalette(rand_gs.vertex_df.comm_attr.nunique())\n",
    "randplot, randpal = rand_gs.plot_by_class(\n",
    "    rand_manual_partition, \n",
    "    layout='fruchterman_reingold', \n",
    "    label_nodes=False, \n",
    "    edge_width=0.05, \n",
    "    edge_arrow_size=0.1, \n",
    "    edge_size=0.05,\n",
    "    edge_color='black') ## Can suppress e/i"
   ]
  },
  {
   "cell_type": "code",
   "execution_count": null,
   "metadata": {},
   "outputs": [],
   "source": [
    "randplot"
   ]
  },
  {
   "cell_type": "code",
   "execution_count": null,
   "metadata": {},
   "outputs": [],
   "source": [
    "cols"
   ]
  },
  {
   "cell_type": "code",
   "execution_count": null,
   "metadata": {},
   "outputs": [],
   "source": [
    "manual_partition = gs.get_manual_partition(50)\n",
    "#manual_partition.graph.es['color'] = ['red' if x < 0 else 'blue' for x in list(ged['signed_weight'])]\n",
    "pal = ig.PrecalculatedPalette(cols)\n",
    "mplot = gs.plot_by_class(\n",
    "    manual_partition, \n",
    "    layout='fruchterman_reingold', \n",
    "    label_nodes=False, \n",
    "    edge_width=0.05, \n",
    "    edge_arrow_size=0.1, \n",
    "    edge_size=0.05,\n",
    "    edge_color='black',\n",
    "    palette=pal) ## Can suppress e/i"
   ]
  },
  {
   "cell_type": "code",
   "execution_count": null,
   "metadata": {},
   "outputs": [],
   "source": [
    "pal"
   ]
  },
  {
   "cell_type": "code",
   "execution_count": null,
   "metadata": {},
   "outputs": [],
   "source": [
    "mplot"
   ]
  },
  {
   "cell_type": "code",
   "execution_count": null,
   "metadata": {},
   "outputs": [],
   "source": [
    "rand_gs.vertex_df.comm_attr.value_counts()"
   ]
  },
  {
   "cell_type": "code",
   "execution_count": null,
   "metadata": {},
   "outputs": [],
   "source": [
    "gs.vertex_df['comm_attr'].value_counts()"
   ]
  },
  {
   "cell_type": "code",
   "execution_count": null,
   "metadata": {},
   "outputs": [],
   "source": [
    "rand_gs.vertex_df['comm_attr'].value_counts()"
   ]
  },
  {
   "cell_type": "code",
   "execution_count": null,
   "metadata": {},
   "outputs": [],
   "source": [
    "gs.vertex_df['comm_attr'].value_counts()*100/gs.vertex_df['comm_attr'].value_counts().sum()"
   ]
  },
  {
   "cell_type": "code",
   "execution_count": null,
   "metadata": {},
   "outputs": [],
   "source": [
    "mat = \n",
    "k = mat.shape[0] # A graph with n nodes has n eigenvalues\n",
    "evals, evecs = scipy.sparse.linalg.eigs(mat.toarray(), k=k) # Eigenvalue spectrum\n",
    "plt.figure(figsize=(10,10))\n",
    "# complex plane\n",
    "# plot the complex numbers\n",
    "plt.scatter(evals.real, evals.imag, c='blue')\n",
    "#plt.scatter(evals.real*1.5, evals.imag*1.5, c='blue') #firing rate slope = 1.5\n",
    "plt.ylabel('Imaginary')\n",
    "plt.xlabel('Real')\n",
    "plt.axvline(x=1, c='red')\n",
    "plt.axvline(x=-1, c='red')\n",
    "plt.show()"
   ]
  },
  {
   "cell_type": "code",
   "execution_count": null,
   "metadata": {},
   "outputs": [],
   "source": [
    "import matplotlib.pyplot as plt\n",
    "import seaborn as sns\n",
    "k = list(gs.vertex_df.comm_attr.value_counts().index)\n",
    "v = list(gs.vertex_df.comm_attr.value_counts().values)\n",
    "colors = [mpal.get(i) for i in k]\n",
    "plt.bar(k,v, color=colors, edgecolor='black', width=0.8)\n",
    "plt.xticks(ticks=k)\n",
    "plt.ylabel('Neuron count')\n",
    "plt.xlabel('Community index')"
   ]
  },
  {
   "cell_type": "code",
   "execution_count": null,
   "metadata": {},
   "outputs": [],
   "source": [
    "import matplotlib.pyplot as plt\n",
    "from matplotlib.patches import Patch\n",
    "\n",
    "\n",
    "# Create legend handles and labels from the color mapping dictionary\n",
    "legend_handles = [Patch(facecolor=color) for color in [pal.get(i) for i in k]]\n",
    "legend_labels = k\n",
    "\n",
    "# Create the legend\n",
    "plt.legend(legend_handles, legend_labels, title='Community index')\n",
    "\n",
    "# Show the plot\n",
    "plt.show()\n"
   ]
  },
  {
   "cell_type": "code",
   "execution_count": null,
   "metadata": {},
   "outputs": [],
   "source": [
    "df = data.neuron_master\n",
    "df[df['class']=='Motor neuron']['mainRoi'].value_counts()"
   ]
  },
  {
   "cell_type": "code",
   "execution_count": null,
   "metadata": {},
   "outputs": [],
   "source": [
    "df.roiInfo[3]"
   ]
  },
  {
   "cell_type": "code",
   "execution_count": null,
   "metadata": {},
   "outputs": [],
   "source": [
    "t = df[df['class']=='Motor neuron'] \n",
    "t[t['roiInfo'].str.startswith('{\"LegNp(T')].roiInfo.str[:15].unique()"
   ]
  },
  {
   "cell_type": "code",
   "execution_count": null,
   "metadata": {},
   "outputs": [],
   "source": [
    "gs.cmap"
   ]
  },
  {
   "cell_type": "code",
   "execution_count": null,
   "metadata": {},
   "outputs": [],
   "source": [
    "gs.vertex_df['tw'] = gs.vertex_df['downstream'] + gs.vertex_df['upstream']"
   ]
  },
  {
   "cell_type": "code",
   "execution_count": null,
   "metadata": {},
   "outputs": [],
   "source": [
    "gs.vertex_df.comm_attr.value_counts()"
   ]
  },
  {
   "cell_type": "code",
   "execution_count": null,
   "metadata": {},
   "outputs": [],
   "source": [
    "merger = list()\n",
    "for c in range(11):\n",
    "    merger += list(gs.vertex_df.query(f\"comm_attr == {c}\").sort_values(by='wc_strength', ascending=False).head(30)._nx_name)"
   ]
  },
  {
   "cell_type": "code",
   "execution_count": null,
   "metadata": {},
   "outputs": [],
   "source": [
    "df = gs.vertex_df.query(f\"_nx_name.isin({merger})\")"
   ]
  },
  {
   "cell_type": "code",
   "execution_count": null,
   "metadata": {},
   "outputs": [],
   "source": [
    "import matplotlib.patches as mpatches\n",
    "\n",
    "top = 30\n",
    "merger = list()\n",
    "for c in range(11):\n",
    "    merger += list(gs.vertex_df.query(f\"comm_attr == {c}\").sort_values(by='wc_strength', ascending=False).head(top)._nx_name)\n",
    "df = gs.vertex_df.query(f\"_nx_name.isin({merger})\")\n",
    "counts = df.groupby(['comm_attr', 'class']).size().unstack()\n",
    "counts.plot(kind='bar', stacked=True, color=[gs.cmap.get(category) for category in counts.columns], width=0.8, edgecolor='black')\n",
    "plt.xticks(rotation=0)\n",
    "plt.ylabel('Neuron count')\n",
    "plt.xlabel('Community index')\n",
    "\n",
    "patches = [mpatches.Patch(color=[r,g,b], label=category)\n",
    "           for category, (r, g, b) in gs.cmap.items()]\n",
    "for handle in patches:\n",
    "    handle.set_edgecolor('black')\n",
    "    handle.set_linewidth(1.0)\n",
    "           \n",
    "plt.gca().legend(loc='center left', bbox_to_anchor=(1, 0.5), handles=patches) "
   ]
  },
  {
   "cell_type": "code",
   "execution_count": null,
   "metadata": {},
   "outputs": [],
   "source": [
    "import matplotlib.pyplot as plt\n",
    "#gs = GraphDF(graph=random_data_igraph, profile=random_modularity_profile, conndf=random_data)\n",
    "%matplotlib inline\n",
    "gs.vertex_df = gs.vertex_df[gs.vertex_df['class'] != 'TBD'] #Remove TBD nodes\n",
    "import matplotlib.patches as mpatches\n",
    "\n",
    "g_instance = gs\n",
    "\n",
    "counts = g_instance.vertex_df.groupby(['comm_attr', 'class']).size().unstack()\n",
    "counts = counts.fillna(0).apply(lambda x: x/counts.fillna(0).sum(axis=1), axis=0)\n",
    "counts.plot(kind='bar', stacked=True, color=[gs.cmap.get(category) for category in counts.columns], width=0.8, edgecolor='black')\n",
    "\n",
    "plt.ylabel('Neuron proportion')\n",
    "plt.xlabel('Community index')\n",
    "\n",
    "\n",
    "patches = [mpatches.Patch(color=[r,g,b], label=category)\n",
    "           for category, (r, g, b) in gs.cmap.items()]\n",
    "for handle in patches:\n",
    "    handle.set_edgecolor('black')\n",
    "    handle.set_linewidth(1.0)\n",
    "plt.gca().legend(loc='center left', bbox_to_anchor=(1, 0.5), handles=patches, title='Neuron Class') \n",
    "\n",
    "\n",
    "# Chi-square on class\n",
    "no_class = data.neuron_master[data.neuron_master['class'].isna()]['bodyId'].to_list()\n",
    "counts_class = g_instance.vertex_df[~g_instance.vertex_df['bodyId'].isin(no_class)].groupby(['comm_attr', 'class']).size().unstack()\n",
    "counts_class = counts_class.fillna(0)\n",
    "counts_class.drop('Glia', axis=1, inplace=True)\n",
    "\n",
    "import numpy as np\n",
    "import scipy\n",
    "chi2, p, dof, expected = scipy.stats.chi2_contingency(counts_class.loc[[3,4,5,6,7,8],:].to_numpy())\n",
    "print(f\"chi2 statistic:     {chi2:.5g}\")\n",
    "print(f\"p-value:            {p:.5g}\")\n",
    "print(f\"degrees of freedom: {dof}\") \n",
    "print(f\"N: {counts_class.sum().sum()}\")"
   ]
  },
  {
   "cell_type": "code",
   "execution_count": null,
   "metadata": {},
   "outputs": [],
   "source": [
    "counts_class"
   ]
  },
  {
   "cell_type": "code",
   "execution_count": null,
   "metadata": {},
   "outputs": [],
   "source": [
    "data.neuron_master.query(\"bodyId == 13809\").roiInfo.to_csv()"
   ]
  },
  {
   "cell_type": "code",
   "execution_count": null,
   "metadata": {},
   "outputs": [],
   "source": [
    "data.annotate_top_roi()"
   ]
  },
  {
   "cell_type": "code",
   "execution_count": null,
   "metadata": {},
   "outputs": [],
   "source": [
    "counts.fillna(0)"
   ]
  },
  {
   "cell_type": "code",
   "execution_count": null,
   "metadata": {},
   "outputs": [],
   "source": [
    "counts."
   ]
  },
  {
   "cell_type": "code",
   "execution_count": null,
   "metadata": {},
   "outputs": [],
   "source": [
    "import matplotlib.pyplot as plt\n",
    "import numpy as np\n",
    "from matplotlib.colors import LinearSegmentedColormap\n",
    "# Generate some example categories (replace with your actual categories)\n",
    "categories = np.arange(30)\n",
    "\n",
    "# Generate a list of 30 evenly spaced values between 0 and 1\n",
    "values1 = np.linspace(0, 1, 12)\n",
    "values2 = np.linspace(0, 1, 9)\n",
    "values3 = np.linspace(0, 1, 8)\n",
    "\n",
    "# Create a list of colors with distinct values for each category\n",
    "colors1 = plt.cm.get_cmap('Set3')(values1)\n",
    "colors2 = plt.cm.get_cmap('Pastel1')(values2)\n",
    "colors3 = plt.cm.get_cmap('Dark2')(values3)\n",
    "colors = np.concatenate((colors1, colors2, colors3))\n",
    "\n",
    "shuffled_indices = np.random.permutation(len(colors))\n",
    "# Reorder the colors array using shuffled indices\n",
    "shuffled_colors = colors[shuffled_indices]\n",
    "\n",
    "# Create a custom colormap using LinearSegmentedColormap\n",
    "custom_cmap = LinearSegmentedColormap.from_list('custom_cmap', colors, len(colors))"
   ]
  },
  {
   "cell_type": "code",
   "execution_count": null,
   "metadata": {},
   "outputs": [],
   "source": [
    "data.neuron_master.mainRoi.unique()"
   ]
  },
  {
   "cell_type": "code",
   "execution_count": null,
   "metadata": {},
   "outputs": [],
   "source": [
    "gs.vertex_df.comm_attr.value_counts().sum()"
   ]
  },
  {
   "cell_type": "code",
   "execution_count": null,
   "metadata": {},
   "outputs": [],
   "source": [
    "import matplotlib.pyplot as plt\n",
    "import numpy as np\n",
    "from matplotlib.colors import LinearSegmentedColormap\n",
    "\n",
    "%matplotlib inline\n",
    "\n",
    "g_instance = gs\n",
    "\n",
    "g_instance.vertex_df = g_instance.vertex_df[g_instance.vertex_df['class'] != 'TBD'] #Remove TBD nodes\n",
    "import matplotlib.patches as mpatches\n",
    "\n",
    "counts = g_instance.vertex_df.groupby(['comm_attr', 'mainRoi']).size().unstack()\n",
    "#rel_counts = counts.fillna(0).apply(lambda x: x/counts.sum(axis=1))\n",
    "\n",
    "## CMAP\n",
    "# Generate some example categories (replace with your actual categories)\n",
    "categories = np.arange(30)\n",
    "\n",
    "# Generate a list of 30 evenly spaced values between 0 and 1\n",
    "values1 = np.linspace(0, 1, 12)\n",
    "values2 = np.linspace(0, 1, 9)\n",
    "values3 = np.linspace(0, 1, 8)\n",
    "\n",
    "# Create a list of colors with distinct values for each category\n",
    "colors1 = plt.cm.get_cmap('Set3')(values1)\n",
    "colors2 = plt.cm.get_cmap('Set1')(values2)\n",
    "colors3 = plt.cm.get_cmap('Dark2')(values3)\n",
    "colors = np.concatenate((colors1, colors2, colors3))\n",
    "shuffled_indices = np.random.RandomState(seed=13809).permutation(len(colors))\n",
    "# Reorder the colors array using shuffled indices\n",
    "colors = colors[shuffled_indices]\n",
    "# Create a custom colormap using LinearSegmentedColormap\n",
    "custom_cmap = LinearSegmentedColormap.from_list('custom_cmap', colors, len(colors))\n",
    "cmap_dict = dict(zip(counts.columns.to_list(), colors))\n",
    "\n",
    "counts = counts.fillna(0).apply(lambda x: x/counts.fillna(0).sum(axis=1), axis=0)\n",
    "counts.plot(kind='bar', stacked=True, width=0.8, edgecolor='black', color=cmap_dict)\n",
    "\n",
    "plt.ylabel('Neuron proportion')\n",
    "plt.xlabel('Community index')\n",
    "           \n",
    "plt.gca().legend(loc='center left', bbox_to_anchor=(1, 0.5), ncol=4, title='Main ROI') \n",
    "\n",
    "# Chi-square on class\n",
    "no_class = data.neuron_master[data.neuron_master['class'].isna()]['bodyId'].to_list()\n",
    "counts_roi = g_instance.vertex_df[~g_instance.vertex_df['bodyId'].isin(no_class)].groupby(['comm_attr', 'mainRoi']).size().unstack()\n",
    "counts_roi = counts_roi.fillna(0)\n",
    "counts_roi.rename(columns={'':'None'}, inplace=True)\n",
    "counts_roi.drop('None', inplace=True, axis=1)\n",
    "\n",
    "import numpy as np\n",
    "import scipy\n",
    "chi2, p, dof, expected = scipy.stats.chi2_contingency(counts_roi.to_numpy())\n",
    "print(f\"chi2 statistic:     {chi2:.2f}\")\n",
    "print(f\"p-value:            {p:.5g}\")\n",
    "print(f\"degrees of freedom: {dof}\") \n",
    "print(f\"N: {counts_class.sum().sum()}\")"
   ]
  },
  {
   "cell_type": "code",
   "execution_count": null,
   "metadata": {},
   "outputs": [],
   "source": [
    "counts_roi"
   ]
  },
  {
   "cell_type": "code",
   "execution_count": null,
   "metadata": {},
   "outputs": [],
   "source": [
    "import matplotlib.pyplot as plt\n",
    "import numpy as np\n",
    "from matplotlib.colors import LinearSegmentedColormap\n",
    "\n",
    "%matplotlib inline\n",
    "\n",
    "g_instance = gs\n",
    "\n",
    "g_instance.vertex_df = g_instance.vertex_df[g_instance.vertex_df['class'] != 'TBD'] #Remove TBD nodes\n",
    "import matplotlib.patches as mpatches\n",
    "\n",
    "counts = g_instance.vertex_df[g_instance.vertex_df['class'] == 'Motor neuron'].groupby(['comm_attr', 'mainRoi']).size().unstack()\n",
    "#rel_counts = counts.fillna(0).apply(lambda x: x/counts.sum(axis=1))\n",
    "counts.loc[7,:] = pd.Series(0)\n",
    "counts.loc[9,:] = pd.Series(0)\n",
    "counts.loc[10,:] = pd.Series(0)\n",
    "counts.sort_index(inplace=True)\n",
    "counts.plot(kind='bar', stacked=True, width=0.8, edgecolor='black', color=cmap_dict)\n",
    "\n",
    "\n",
    "\n",
    "plt.ylabel('Motor Neuron count')\n",
    "plt.xlabel('Community index')\n",
    "plt.xticks(rotation=0)\n",
    "           \n",
    "plt.gca().legend(loc='center left', bbox_to_anchor=(1, 0.5), ncol=2, title='Main ROI') "
   ]
  },
  {
   "cell_type": "code",
   "execution_count": null,
   "metadata": {},
   "outputs": [],
   "source": [
    "counts['ANm']"
   ]
  },
  {
   "cell_type": "code",
   "execution_count": null,
   "metadata": {},
   "outputs": [],
   "source": [
    "counts.fillna(0)"
   ]
  },
  {
   "cell_type": "code",
   "execution_count": null,
   "metadata": {},
   "outputs": [],
   "source": [
    "counts.loc[7,:] = pd.Series(None)\n",
    "counts.loc[9,:] = pd.Series(None)\n",
    "counts.loc[10,:] = pd.Series(None)"
   ]
  },
  {
   "cell_type": "code",
   "execution_count": null,
   "metadata": {},
   "outputs": [],
   "source": [
    "counts"
   ]
  },
  {
   "cell_type": "code",
   "execution_count": null,
   "metadata": {},
   "outputs": [],
   "source": [
    "no_class = data.neuron_master[data.neuron_master['class'].isna()]['bodyId'].to_list()"
   ]
  },
  {
   "cell_type": "code",
   "execution_count": null,
   "metadata": {},
   "outputs": [],
   "source": [
    "gs.vertex_df['_nx_name'].isin(no_class)"
   ]
  },
  {
   "cell_type": "code",
   "execution_count": null,
   "metadata": {},
   "outputs": [],
   "source": [
    "# Chi-square on class\n",
    "g_instance = gs\n",
    "counts_class = g_instance.vertex_df[~g_instance.vertex_df['bodyId'].isin(no_class)].groupby(['comm_attr', 'class']).size().unstack()\n",
    "counts_class = counts_class.fillna(0)\n",
    "counts_class = counts_class.drop('None', axis=1)"
   ]
  },
  {
   "cell_type": "code",
   "execution_count": null,
   "metadata": {},
   "outputs": [],
   "source": [
    "counts_class"
   ]
  },
  {
   "cell_type": "code",
   "execution_count": null,
   "metadata": {},
   "outputs": [],
   "source": [
    "import numpy as np\n",
    "import scipy\n",
    "chi2, p, dof, expected = scipy.stats.chi2_contingency(counts_class.to_numpy())\n",
    "print(f\"chi2 statistic:     {chi2:.5g}\")\n",
    "print(f\"p-value:            {p:.5g}\")\n",
    "print(f\"degrees of freedom: {dof}\")\n",
    "print(f\"N: {counts_class.sum().sum()}\")"
   ]
  },
  {
   "cell_type": "code",
   "execution_count": null,
   "metadata": {},
   "outputs": [],
   "source": [
    "print(f\"chi2 statistic:     {chi2:.5g}\")\n",
    "print(f\"p-value:            {p:.5g}\")\n",
    "print(f\"degrees of freedom: {dof}\")\n",
    "print(f\"N: {counts_class.sum().sum()}\")"
   ]
  },
  {
   "cell_type": "code",
   "execution_count": null,
   "metadata": {},
   "outputs": [],
   "source": [
    "counts"
   ]
  },
  {
   "cell_type": "code",
   "execution_count": null,
   "metadata": {},
   "outputs": [],
   "source": [
    "comm1_df = gs.vertex_df.query(\"comm_attr == 1\")\n",
    "comm1_df[comm1_df['class'] == 'Motor neuron'][['_nx_name', 'type', 'somaSide', 'somaNeuromere', 'mainRoi']]"
   ]
  },
  {
   "cell_type": "code",
   "execution_count": null,
   "metadata": {},
   "outputs": [],
   "source": [
    "r = data.neuron_master.query(\"bodyId == 10462\")['roiInfo']"
   ]
  },
  {
   "cell_type": "code",
   "execution_count": null,
   "metadata": {},
   "outputs": [],
   "source": [
    "data.neuron_master['mainRoi']"
   ]
  },
  {
   "cell_type": "code",
   "execution_count": null,
   "metadata": {},
   "outputs": [],
   "source": [
    "comm_x_df = gs.vertex_df.query(\"comm_attr == 1\")\n",
    "comm_x_df[comm_x_df['class'] == 'Motor neuron'].exitNerve.value_counts()"
   ]
  },
  {
   "cell_type": "code",
   "execution_count": null,
   "metadata": {},
   "outputs": [],
   "source": [
    "comm_x_df = gs.vertex_df.query(\"comm_attr == 1\")\n",
    "comm_x_df[comm_x_df['class'] == 'Motor neuron'].exitNerve.value_counts()\n",
    "mn_1 = list(comm_x_df[comm_x_df['class'] == 'Motor neuron']['bodyId'])\n",
    "\n",
    "reload(analysis)\n",
    "import analysis\n",
    "from analysis import ClusterDF\n",
    "\n",
    "viz = ClusterDF(data)\n",
    "viz.draw_morphologies(bodyId_list=mn_1)"
   ]
  },
  {
   "cell_type": "code",
   "execution_count": null,
   "metadata": {},
   "outputs": [],
   "source": [
    "comm_x_df = gs.vertex_df.query(\"comm_attr == 6\")\n",
    "comm_x_df[comm_x_df['class'] == 'Motor neuron'].exitNerve.value_counts()"
   ]
  },
  {
   "cell_type": "code",
   "execution_count": null,
   "metadata": {},
   "outputs": [],
   "source": [
    "comm_x_df = gs.vertex_df.query(\"comm_attr == 2\")\n",
    "comm_x_df[comm_x_df['class'] == 'Motor neuron'].exitNerve.value_counts()"
   ]
  },
  {
   "cell_type": "code",
   "execution_count": null,
   "metadata": {},
   "outputs": [],
   "source": [
    "comm_x_df = gs.vertex_df.query(\"comm_attr == 4\")\n",
    "comm_x_df[comm_x_df['class'] == 'Motor neuron'].exitNerve.value_counts()"
   ]
  },
  {
   "cell_type": "code",
   "execution_count": null,
   "metadata": {},
   "outputs": [],
   "source": [
    "comm_x_df = gs.vertex_df.query(\"comm_attr == 5\")\n",
    "comm_x_df[comm_x_df['class'] == 'Motor neuron'].exitNerve.value_counts()"
   ]
  },
  {
   "cell_type": "code",
   "execution_count": null,
   "metadata": {},
   "outputs": [],
   "source": [
    "comm_x_df = gs.vertex_df.query(\"comm_attr == 8\")\n",
    "comm_x_df[comm_x_df['class'] == 'Motor neuron'].exitNerve.value_counts()"
   ]
  },
  {
   "cell_type": "code",
   "execution_count": null,
   "metadata": {},
   "outputs": [],
   "source": [
    "comm1_df = gs.vertex_df.query(\"comm_attr == 1\")\n",
    "vc1 = comm1_df[comm1_df['class'] == 'Motor neuron'].type.value_counts()"
   ]
  },
  {
   "cell_type": "code",
   "execution_count": null,
   "metadata": {},
   "outputs": [],
   "source": [
    "comm6_df = gs.vertex_df.query(\"comm_attr == 6\")\n",
    "vc6 = comm6_df[comm6_df['class'] == 'Motor neuron'].type.value_counts()"
   ]
  },
  {
   "cell_type": "code",
   "execution_count": null,
   "metadata": {},
   "outputs": [],
   "source": [
    "import pandas as pd\n",
    "merged_series = pd.merge(vc1, vc6, left_index=True, right_index=True)"
   ]
  },
  {
   "cell_type": "code",
   "execution_count": null,
   "metadata": {},
   "outputs": [],
   "source": [
    "merged_series.rename({'type_x':'Community 1', 'type_y':'Community 6'}).to_csv('seres')"
   ]
  },
  {
   "cell_type": "code",
   "execution_count": null,
   "metadata": {},
   "outputs": [],
   "source": [
    "vc_dict = dict()\n",
    "for i in range(11):\n",
    "    comm_df = gs.vertex_df.query(f\"comm_attr == {i}\")\n",
    "    vcx = comm_df[comm_df['class'] == 'Motor neuron'].exitNerve.value_counts()\n",
    "    vc_dict[i] = vcx\n",
    "    print(f'Community {i}')\n",
    "    print(vcx)\n",
    "    print('\\n')\n",
    "merged_series = pd.concat([x for x in vc_dict.values()], axis=1, join='outer') \n",
    "merged_series = merged_series.fillna(0)\n",
    "merged_series.columns = [f'Community {i}' for i in range(11)]\n",
    "merged_series = merged_series.astype(int)"
   ]
  },
  {
   "cell_type": "code",
   "execution_count": null,
   "metadata": {},
   "outputs": [],
   "source": [
    "d = merged_series[[f'Community {i}' for i in [1,6,2,4,5,8]]]"
   ]
  },
  {
   "cell_type": "code",
   "execution_count": null,
   "metadata": {},
   "outputs": [],
   "source": [
    "merged_series"
   ]
  },
  {
   "cell_type": "code",
   "execution_count": null,
   "metadata": {},
   "outputs": [],
   "source": [
    "merged_series = pd.concat([x for x in vc_dict.values()], axis=1, join='outer') \n",
    "merged_series = merged_series.fillna(0)\n",
    "merged_series.columns = [f'Community {i}' for i in range(11)]\n",
    "merged_series = merged_series.astype(int)\n",
    "merged_series_reindexed = merged_series.reset_index()\n",
    "merged_series.drop(axis=0)\n",
    "df = merged_series_reindexed[merged_series_reindexed['index'].str.contains('Ti') | merged_series_reindexed['index'].str.contains('ti')]\n",
    "df[df != 0]"
   ]
  },
  {
   "cell_type": "code",
   "execution_count": null,
   "metadata": {},
   "outputs": [],
   "source": [
    "merged_series"
   ]
  },
  {
   "cell_type": "code",
   "execution_count": null,
   "metadata": {},
   "outputs": [],
   "source": [
    "df = merged_series\n",
    "\n",
    "# Set the same color scheme for all pie charts\n",
    "colors = plt.cm.Set3.colors\n",
    "\n",
    "for column in df.columns:\n",
    "    community_data = df[column]\n",
    "    total_count = community_data.sum()\n",
    "    percentages = (community_data / total_count) * 100\n",
    "\n",
    "    # Filter out categories with 0 counts\n",
    "    nonzero_percentages = percentages[percentages > 0]\n",
    "\n",
    "    # Create the pie chart\n",
    "    plt.figure()\n",
    "    patches, texts, autotexts = plt.pie(nonzero_percentages, labels=nonzero_percentages.index,\n",
    "                                        autopct='%1.1f%%', colors=colors, textprops={'fontsize': 7})\n",
    "\n",
    "    # Move percentage text closer to the edge\n",
    "    for autotext, patch, label in zip(autotexts, patches, nonzero_percentages.index):\n",
    "        angle = np.deg2rad((patch.theta2 - patch.theta1) / 2. + patch.theta1)\n",
    "        x = np.cos(angle)\n",
    "        y = np.sin(angle)\n",
    "        radius = 0.7 * patch.r  # Adjust the radius as needed (0.7 is just an example)\n",
    "        \n",
    "        if label.endswith('_R'):\n",
    "            x_text = radius * 1.2 * np.cos(angle)\n",
    "            y_text = radius * 1.2 * np.sin(angle)\n",
    "        elif label.endswith('_L'):\n",
    "            x_text = radius * 0.8 * np.cos(angle)\n",
    "            y_text = radius * 0.8 * np.sin(angle)\n",
    "        else:\n",
    "            x_text = radius * np.cos(angle)\n",
    "            y_text = radius * np.sin(angle)\n",
    "        \n",
    "        autotext.set_position((x_text, y_text))\n",
    "\n",
    "    plt.title(f'')\n",
    "    plt.axis('equal')\n",
    "    plt.show()"
   ]
  },
  {
   "cell_type": "code",
   "execution_count": null,
   "metadata": {},
   "outputs": [],
   "source": [
    "merged_series.T.plot(kind='bar', stacked=True)\n",
    "plt.gca().legend(loc='center left', bbox_to_anchor=(1, 0.5), ncol=2, title='Exit Nerve') "
   ]
  },
  {
   "cell_type": "code",
   "execution_count": null,
   "metadata": {},
   "outputs": [],
   "source": [
    "import seaborn as sns\n",
    "plt.figure(figsize=(15,8))\n",
    "sns.heatmap(merged_series, cmap='viridis')\n",
    "plt.ylabel('Exit Nerve')"
   ]
  },
  {
   "cell_type": "code",
   "execution_count": null,
   "metadata": {},
   "outputs": [],
   "source": [
    "import matplotlib.pyplot as plt\n",
    "%matplotlib inline\n",
    "gs.vertex_df = gs.vertex_df[gs.vertex_df['class'] != 'TBD'] #Remove TBD nodes\n",
    "import matplotlib.patches as mpatches\n",
    "\n",
    "counts = gs.vertex_df.groupby(['comm_attr', 'mainRoi']).size().unstack()\n",
    "rel_counts = counts.fillna(0).apply(lambda x: x/counts.sum(axis=1))\n",
    "rel_counts.plot(kind='bar', stacked=True, width=0.8, edgecolor='black')\n",
    "\n",
    "plt.ylabel('Relative Neuron Fraction')\n",
    "plt.xlabel('Community index')\n",
    "           \n",
    "plt.gca().legend(loc='center left', bbox_to_anchor=(1, 0.5)) "
   ]
  },
  {
   "cell_type": "code",
   "execution_count": null,
   "metadata": {},
   "outputs": [],
   "source": [
    "MDN_L = [13438, 14523]\n",
    "MDN_R = [13809, 14419]\n",
    "LUL130 = [14084, 13323, 13574, 13293]\n",
    "LBL40 = [10994, 11493]\n",
    "LUM9 = [16903, 18491]\n",
    "ALL = MDN_L + MDN_R + LUL130 + LBL40 + LUM9"
   ]
  },
  {
   "cell_type": "code",
   "execution_count": null,
   "metadata": {},
   "outputs": [],
   "source": [
    "cdf = gs.vertex_df.query(\"comm_attr == 2\")\n",
    "cdf = cdf[cdf['class'] == 'Motor neuron']\n",
    "cdf.type.value_counts()"
   ]
  },
  {
   "cell_type": "code",
   "execution_count": null,
   "metadata": {},
   "outputs": [],
   "source": [
    "cdf.exitNerve.unique()"
   ]
  },
  {
   "cell_type": "code",
   "execution_count": null,
   "metadata": {},
   "outputs": [],
   "source": [
    "cdf = gs.vertex_df.query(\"comm_attr == 4\")\n",
    "cdf = cdf[cdf['class'] == 'Motor neuron']\n",
    "cdf.type.value_counts()\n",
    "cdf.exitNerve.unique()"
   ]
  },
  {
   "cell_type": "code",
   "execution_count": null,
   "metadata": {},
   "outputs": [],
   "source": [
    "cdf = gs.vertex_df.query(\"comm_attr == 5\")\n",
    "cdf = cdf[cdf['class'] == 'Motor neuron']\n",
    "cdf.type.value_counts()\n",
    "cdf.exitNerve.unique()"
   ]
  },
  {
   "cell_type": "code",
   "execution_count": null,
   "metadata": {},
   "outputs": [],
   "source": [
    "cdf = gs.vertex_df.query(\"comm_attr == 6\")\n",
    "cdf = cdf[cdf['class'] == 'Motor neuron']\n",
    "cdf.type.value_counts()\n",
    "cdf.exitNerve.unique()"
   ]
  },
  {
   "cell_type": "code",
   "execution_count": null,
   "metadata": {},
   "outputs": [],
   "source": [
    "cdf = gs.vertex_df.query(\"comm_attr == 8\")\n",
    "cdf = cdf[cdf['class'] == 'Motor neuron']\n",
    "cdf.type.value_counts()\n",
    "cdf.exitNerve.unique()"
   ]
  },
  {
   "cell_type": "code",
   "execution_count": null,
   "metadata": {},
   "outputs": [],
   "source": [
    "tps = cdf.type.value_counts().index\n",
    "storage = []\n",
    "for i in tps:\n",
    "    if i not in storage:\n",
    "        print(f\"From {i}, to:\")\n",
    "        print(cdf.query(f'type == \"{i}\"').exitNerve.unique())\n",
    "    storage.append(i)"
   ]
  },
  {
   "cell_type": "code",
   "execution_count": null,
   "metadata": {},
   "outputs": [],
   "source": [
    "comm_x_df[comm_x_df['class'] == 'Motor neuron'].query('exitNerve == \"AbN1_R\"')"
   ]
  },
  {
   "cell_type": "code",
   "execution_count": null,
   "metadata": {},
   "outputs": [],
   "source": [
    "comm_x_df = gs.vertex_df.query(\"comm_attr == 7\")\n",
    "comm_x_df[comm_x_df['class'] == 'Motor neuron'].exitNerve.value_counts()\n",
    "comm_x_df[comm_x_df['class'] == 'Motor neuron'].query('exitNerve == \"AbN1_L\"')"
   ]
  },
  {
   "cell_type": "code",
   "execution_count": null,
   "metadata": {},
   "outputs": [],
   "source": [
    "comm_x_df = gs.vertex_df.query(\"comm_attr == 7\")\n",
    "comm_x_df[comm_x_df['class'] == 'Motor neuron'].exitNerve.value_counts()"
   ]
  },
  {
   "cell_type": "code",
   "execution_count": null,
   "metadata": {},
   "outputs": [],
   "source": [
    "comm_x_df = gs.vertex_df.query(\"comm_attr == 3\")\n",
    "comm_x_df[comm_x_df['class'] == 'Motor neuron'].exitNerve.value_counts()"
   ]
  },
  {
   "cell_type": "code",
   "execution_count": null,
   "metadata": {},
   "outputs": [],
   "source": [
    "comm_x_df"
   ]
  },
  {
   "cell_type": "code",
   "execution_count": null,
   "metadata": {},
   "outputs": [],
   "source": [
    "qdf = gs.vertex_df.query(f'bodyId.isin({ALL})')"
   ]
  },
  {
   "cell_type": "code",
   "execution_count": null,
   "metadata": {},
   "outputs": [],
   "source": [
    "qdf.groupby('type').sum()"
   ]
  },
  {
   "cell_type": "code",
   "execution_count": null,
   "metadata": {},
   "outputs": [],
   "source": [
    "qdf.query('comm_attr==6')"
   ]
  },
  {
   "cell_type": "code",
   "execution_count": null,
   "metadata": {},
   "outputs": [],
   "source": [
    "rdf = rand_gs.vertex_df.query(f'_nx_name.isin({ALL})')"
   ]
  },
  {
   "cell_type": "code",
   "execution_count": null,
   "metadata": {},
   "outputs": [],
   "source": [
    "rdf[['_nx_name', 'type','comm_attr']]"
   ]
  },
  {
   "cell_type": "code",
   "execution_count": null,
   "metadata": {},
   "outputs": [],
   "source": [
    "qdf[['_nx_name', 'type','comm_attr']]"
   ]
  },
  {
   "cell_type": "code",
   "execution_count": null,
   "metadata": {},
   "outputs": [],
   "source": [
    "data.neuron_master.query('bodyId==11493').somaSide"
   ]
  },
  {
   "cell_type": "code",
   "execution_count": null,
   "metadata": {},
   "outputs": [],
   "source": [
    "gs.vertex_df"
   ]
  },
  {
   "cell_type": "code",
   "execution_count": null,
   "metadata": {},
   "outputs": [],
   "source": [
    "import navis\n",
    "from analysis import ClusterDF\n",
    "viz = ClusterDF(data)\n",
    "VNC_roi_meshes = viz.get_vnc_roi_meshes()\n",
    "\n",
    "fig = navis.plot3d(\n",
    "    x=VNC_roi_meshes,\n",
    "    inline=False,\n",
    "    width=500,\n",
    "    height=800,\n",
    "    legend_group={13809:'MDN (13809)',14419:'MDN (14419)',13438:'MDN (13438)',14523:'MDN (14523)',11493:'LBL40 (11493)', 10994:'LBL40 (10994)', 13293:'LUL130 (13293)', 13574:'LUL130 (13574)', 14084:'LUL130 (14084)', 13323:'LUL130 (13323)'},\n",
    "    backend='plotly'\n",
    ")\n",
    "fig.show(renderer='notebook')"
   ]
  },
  {
   "cell_type": "code",
   "execution_count": null,
   "metadata": {},
   "outputs": [],
   "source": [
    "reload(analysis)\n",
    "import analysis\n",
    "from analysis import ClusterDF\n",
    "\n",
    "viz = ClusterDF(data)\n",
    "viz.draw_morphologies(bodyId_list=[13438, 14523, 14084, 13323, 10994])"
   ]
  },
  {
   "cell_type": "code",
   "execution_count": null,
   "metadata": {},
   "outputs": [],
   "source": [
    "gs.vertex_df['comm_attr'].value_counts()"
   ]
  },
  {
   "cell_type": "code",
   "execution_count": null,
   "metadata": {},
   "outputs": [],
   "source": [
    "sample_d = eval(gs.vertex_df.roiInfo[0])"
   ]
  },
  {
   "cell_type": "code",
   "execution_count": null,
   "metadata": {},
   "outputs": [],
   "source": [
    "data.annotate_top_roi()"
   ]
  },
  {
   "cell_type": "code",
   "execution_count": null,
   "metadata": {},
   "outputs": [],
   "source": [
    "import matplotlib.patches as mpatches\n",
    "gs.vertex_df['mainRoi'] = data.neuron_master.mainRoi\n",
    "counts = gs.vertex_df.groupby(['comm_attr', 'mainRoi']).size().unstack()\n",
    "counts.plot(kind='bar', stacked=True)\n",
    "plt.xticks(rotation=0)\n",
    "plt.ylabel('Neuron count')\n",
    "plt.xlabel('Community index')\n",
    "plt.gca().legend(loc='center left', bbox_to_anchor=(1, 0.5)) "
   ]
  },
  {
   "cell_type": "code",
   "execution_count": null,
   "metadata": {},
   "outputs": [],
   "source": [
    "counts"
   ]
  },
  {
   "cell_type": "code",
   "execution_count": null,
   "metadata": {},
   "outputs": [],
   "source": [
    "grouped_counts.fillna(0)"
   ]
  },
  {
   "cell_type": "code",
   "execution_count": null,
   "metadata": {},
   "outputs": [],
   "source": [
    "table = grouped_counts.fillna(0)"
   ]
  },
  {
   "cell_type": "code",
   "execution_count": null,
   "metadata": {},
   "outputs": [],
   "source": [
    "table"
   ]
  },
  {
   "cell_type": "code",
   "execution_count": null,
   "metadata": {},
   "outputs": [],
   "source": [
    "# chisquare the above. Is there an association between comm_attr and mainRoi?\n",
    "import scipy\n",
    "df = rand_gs.vertex_df\n",
    "# Group by 'Cluster' and 'Category', and calculate value counts\n",
    "grouped_counts = df.groupby(['comm_attr', 'class']).size().unstack()\n",
    "table = grouped_counts.fillna(0)\n",
    "chi2, p_value = scipy.stats.chisquare(grouped_counts.fillna(0).T, axis=1)"
   ]
  },
  {
   "cell_type": "code",
   "execution_count": null,
   "metadata": {},
   "outputs": [],
   "source": [
    "table"
   ]
  },
  {
   "cell_type": "code",
   "execution_count": null,
   "metadata": {},
   "outputs": [],
   "source": [
    "chi2, p, dof, expected = scipy.stats.chi2_contingency(table.to_numpy())"
   ]
  },
  {
   "cell_type": "code",
   "execution_count": null,
   "metadata": {},
   "outputs": [],
   "source": [
    "print(f\"chi2 statistic:     {chi2:.5g}\")\n",
    "print(f\"p-value:            {p:.5g}\")\n",
    "print(f\"degrees of freedom: {dof}\")\n"
   ]
  },
  {
   "cell_type": "code",
   "execution_count": null,
   "metadata": {},
   "outputs": [],
   "source": [
    "# chisquare the above. Is there an association between comm_attr and mainRoi?\n",
    "import scipy\n",
    "df = gs.vertex_df\n",
    "# Group by 'Cluster' and 'Category', and calculate value counts\n",
    "grouped_counts = df.groupby(['comm_attr', 'mainRoi']).size().unstack()\n",
    "table = grouped_counts.fillna(0)\n",
    "chi2, p, dof, expected = scipy.stats.chi2_contingency(table.to_numpy())"
   ]
  },
  {
   "cell_type": "code",
   "execution_count": null,
   "metadata": {},
   "outputs": [],
   "source": [
    "table.T"
   ]
  },
  {
   "cell_type": "code",
   "execution_count": null,
   "metadata": {},
   "outputs": [],
   "source": [
    "import numpy as np\n",
    "gs.vertex_df.replace('None', np.nan).isna().sum().sort_values(ascending=True)"
   ]
  },
  {
   "cell_type": "code",
   "execution_count": null,
   "metadata": {},
   "outputs": [],
   "source": [
    "gs.vertex_df.roiInfo[0]"
   ]
  },
  {
   "cell_type": "code",
   "execution_count": null,
   "metadata": {},
   "outputs": [],
   "source": [
    "print(f\"chi2 statistic:     {chi2:.5g}\")\n",
    "print(f\"p-value:            {p:.5g}\")\n",
    "print(f\"degrees of freedom: {dof}\")\n"
   ]
  },
  {
   "cell_type": "code",
   "execution_count": null,
   "metadata": {},
   "outputs": [],
   "source": [
    "# MDNS 13809, 14419, 13438, 14523"
   ]
  },
  {
   "cell_type": "code",
   "execution_count": null,
   "metadata": {},
   "outputs": [],
   "source": [
    "gs.vertex_df.query(\"_nx_name.isin([13809, 14419, 13438, 14523])\")"
   ]
  },
  {
   "cell_type": "code",
   "execution_count": null,
   "metadata": {},
   "outputs": [],
   "source": [
    "memory = gs.vertex_df"
   ]
  },
  {
   "cell_type": "code",
   "execution_count": null,
   "metadata": {},
   "outputs": [],
   "source": [
    "signed_igraph = data.df_as_graph(make_ei=True)"
   ]
  },
  {
   "cell_type": "code",
   "execution_count": null,
   "metadata": {},
   "outputs": [],
   "source": [
    "edge_ei_frame = data.graph.get_edge_dataframe()"
   ]
  },
  {
   "cell_type": "code",
   "execution_count": null,
   "metadata": {},
   "outputs": [],
   "source": [
    "edge_ei_frame"
   ]
  },
  {
   "cell_type": "code",
   "execution_count": null,
   "metadata": {},
   "outputs": [],
   "source": [
    "['red' if x < 0 else 'green' for x in edge_ei_frame.signed_weight]"
   ]
  },
  {
   "cell_type": "code",
   "execution_count": null,
   "metadata": {},
   "outputs": [],
   "source": [
    "gs.graph.get_edge_dataframe()"
   ]
  },
  {
   "cell_type": "code",
   "execution_count": null,
   "metadata": {},
   "outputs": [],
   "source": [
    "ged = gs.graph.get_edge_dataframe()"
   ]
  },
  {
   "cell_type": "code",
   "execution_count": null,
   "metadata": {},
   "outputs": [],
   "source": [
    "ged"
   ]
  },
  {
   "cell_type": "code",
   "execution_count": null,
   "metadata": {},
   "outputs": [],
   "source": [
    "import analysis, data_processing\n",
    "from importlib import reload\n",
    "reload(analysis)\n",
    "reload(data_processing)\n",
    "from analysis import SummaryDF, GraphDF\n",
    "from data_processing import ConnDF"
   ]
  },
  {
   "cell_type": "code",
   "execution_count": null,
   "metadata": {},
   "outputs": [],
   "source": [
    "data.df_as_graph(make_ei=False)"
   ]
  },
  {
   "cell_type": "code",
   "execution_count": null,
   "metadata": {},
   "outputs": [],
   "source": [
    "norm_igraph = data.graph"
   ]
  },
  {
   "cell_type": "code",
   "execution_count": null,
   "metadata": {},
   "outputs": [],
   "source": [
    "gs = GraphDF(graph=norm_igraph, profile=modularity_profile, conndf=data)\n",
    "%matplotlib inline\n",
    "gs.vertex_df = gs.vertex_df[gs.vertex_df['class'] != 'TBD'] #Remove TBD nodes"
   ]
  },
  {
   "cell_type": "code",
   "execution_count": null,
   "metadata": {},
   "outputs": [],
   "source": [
    "gs.vertex_df = gs.vertex_df.query('comm_attr.isin([1,6])')"
   ]
  },
  {
   "cell_type": "code",
   "execution_count": null,
   "metadata": {},
   "outputs": [],
   "source": [
    "gs.vertex_df[gs.vertex_df['class'] == 'Motor neuron'].type.unique()"
   ]
  },
  {
   "cell_type": "code",
   "execution_count": null,
   "metadata": {},
   "outputs": [],
   "source": [
    "manual_partition = gs.get_manual_partition(500)\n",
    "manual_partition.graph.es['color'] = ['red' if x < 0 else 'blue' for x in list(ged['signed_weight'])]\n",
    "mplot, mpal = gs.plot_by_class(\n",
    "    manual_partition, \n",
    "    layout='fruchterman_reingold', \n",
    "    label_nodes=False, \n",
    "    edge_width=0.05, \n",
    "    edge_arrow_size=0.05, \n",
    "    edge_size=0.05,\n",
    "    edge_color='black') ## Can suppress e/i"
   ]
  },
  {
   "cell_type": "code",
   "execution_count": null,
   "metadata": {},
   "outputs": [],
   "source": [
    "mplot"
   ]
  },
  {
   "cell_type": "code",
   "execution_count": null,
   "metadata": {},
   "outputs": [],
   "source": [
    "mplot2, mpal2 = gs.plot_by_class(n=75, layout='fruchterman_reingold', edge_color='black', edge_width=0.1, edge_arrow_size=0.1, edge_size=0.1)"
   ]
  },
  {
   "cell_type": "code",
   "execution_count": null,
   "metadata": {},
   "outputs": [],
   "source": [
    "mplot2"
   ]
  },
  {
   "cell_type": "code",
   "execution_count": null,
   "metadata": {},
   "outputs": [],
   "source": [
    "import pandas as pd\n",
    "import matplotlib.pyplot as plt\n",
    "\n",
    "df = gs.vertex_df\n",
    "\n",
    "# Group by 'Cluster' and 'Category', and calculate value counts\n",
    "grouped_counts = df.groupby(['comm_attr', 'mainRoi']).size().unstack()\n",
    "\n",
    "# Get unique clusters\n",
    "clusters = grouped_counts.index\n",
    "\n",
    "\n",
    "# Calculate the number of rows and columns for subplots\n",
    "num_clusters = len(clusters)\n",
    "num_cols = min(num_clusters, 4)\n",
    "num_rows = (num_clusters - 1) // num_cols + 1\n",
    "\n",
    "# Create the figure and subplots\n",
    "fig, axes = plt.subplots(num_rows, num_cols, figsize=(12*1.5, 1.4*4 * num_rows))\n",
    "fig.subplots_adjust(hspace=0.4)\n",
    "\n",
    "# Flatten the axes array if necessary\n",
    "if num_clusters > 1:\n",
    "    axes = axes.flatten()\n",
    "else:\n",
    "    axes = [axes]\n",
    "\n",
    "\n",
    "# Plot pie chart for each cluster\n",
    "for i, cluster in enumerate(clusters):\n",
    "    counts = grouped_counts.loc[cluster].fillna(0)\n",
    "    categories = counts.index\n",
    "\n",
    "    # Create a figure and axes for each cluster\n",
    "    ax = axes[i]\n",
    "\n",
    "    # Create a pie chart\n",
    "    \n",
    "    wedges, text, _ = ax.pie(counts, startangle=90, autopct='%1.1f%%', pctdistance=1.2)\n",
    "\n",
    "    # Set colors for the wedges based on the category\n",
    "    colors = [gs.cmap.get(category, 'gray') for category in categories]\n",
    "\n",
    "    # Customize the percentage labels\n",
    "    label_values = counts.values\n",
    "    label_percentages = label_values / sum(label_values) * 100\n",
    "\n",
    "    for i, label in enumerate(_):\n",
    "        if label_percentages[i] > 0.5:  # Set a threshold for label display\n",
    "            label.set_text(f'{label_percentages[i]:.1f}%')\n",
    "        else:\n",
    "            label.set_text('')\n",
    "\n",
    "\n",
    "    # Add title\n",
    "    ax.set_title(f'Community {cluster}')\n",
    "\n",
    "    # Equal aspect ratio ensures a circular pie chart\n",
    "    ax.axis('equal')\n",
    "\n",
    "# Hide unused subplots\n",
    "for j in range(i + 1, len(axes)):\n",
    "    axes[j].axis('off')\n",
    "    # Show the plot\n",
    "plt.show()"
   ]
  },
  {
   "cell_type": "code",
   "execution_count": null,
   "metadata": {},
   "outputs": [],
   "source": [
    "df = gs.vertex_df\n",
    "df[df['class'].isna()].comm_attr.value_counts()"
   ]
  },
  {
   "cell_type": "code",
   "execution_count": null,
   "metadata": {},
   "outputs": [],
   "source": [
    "df.comm_attr.value_counts()"
   ]
  },
  {
   "cell_type": "code",
   "execution_count": null,
   "metadata": {},
   "outputs": [],
   "source": [
    "(1/846)*100"
   ]
  },
  {
   "cell_type": "code",
   "execution_count": null,
   "metadata": {},
   "outputs": [],
   "source": [
    "import pandas as pd\n",
    "import matplotlib.pyplot as plt\n",
    "\n",
    "df = gs.vertex_df\n",
    "\n",
    "# Group by 'Cluster' and 'Category', and calculate value counts\n",
    "grouped_counts = df.groupby(['comm_attr', 'class']).size().unstack()\n",
    "\n",
    "# Get unique clusters\n",
    "clusters = grouped_counts.index\n",
    "\n",
    "# Plot pie chart for each cluster\n",
    "for cluster in clusters:\n",
    "    counts = grouped_counts.loc[cluster].fillna(0)\n",
    "    categories = counts.index\n",
    "\n",
    "    # Create a figure and axes for each cluster\n",
    "    fig, ax = plt.subplots()\n",
    "\n",
    "    # Create a pie chart\n",
    "    wedges, autotexts = ax.pie(counts, startangle=90, pctdistance=0.85)\n",
    "\n",
    "    # Set colors for the wedges based on the category\n",
    "    colors = [gs.cmap.get(category, 'gray') for category in categories]\n",
    "    for i, wedge in enumerate(wedges):\n",
    "        wedge.set_facecolor(colors[i])\n",
    "\n",
    "    # Customize the percentage labels\n",
    "    label_values = counts.values\n",
    "    label_percentages = label_values / sum(label_values) * 100\n",
    "\n",
    "    for i, label in enumerate(autotexts):\n",
    "        if label_percentages[i] > 0.4:  # Set a threshold for label display\n",
    "            label.set_text(f'{label_percentages[i]:.1f}%')\n",
    "        else:\n",
    "            label.set_text('')\n",
    "    \n",
    "    # Add title\n",
    "    ax.set_title(f'Community {cluster}')\n",
    "\n",
    "    # Equal aspect ratio ensures a circular pie chart\n",
    "    ax.axis('equal')\n",
    "\n",
    "    # Show the plot\n",
    "    plt.show()\n"
   ]
  },
  {
   "cell_type": "code",
   "execution_count": null,
   "metadata": {},
   "outputs": [],
   "source": [
    "import matplotlib.pyplot as plt\n",
    "from matplotlib.patches import Patch\n",
    "\n",
    "\n",
    "# Create legend handles and labels from the color mapping dictionary\n",
    "legend_handles = [Patch(facecolor=color) for color in gs.cmap.values()]\n",
    "legend_labels = list(gs.cmap.keys())\n",
    "\n",
    "# Create the legend\n",
    "plt.legend(legend_handles, legend_labels, title='Neuron class')\n",
    "\n",
    "# Show the plot\n",
    "plt.show()\n"
   ]
  },
  {
   "cell_type": "code",
   "execution_count": null,
   "metadata": {},
   "outputs": [],
   "source": [
    "gs.vertex_df['mainRoi'] = data.neuron_master.mainRoi"
   ]
  },
  {
   "cell_type": "code",
   "execution_count": null,
   "metadata": {},
   "outputs": [],
   "source": [
    "for s in "
   ]
  },
  {
   "cell_type": "code",
   "execution_count": null,
   "metadata": {},
   "outputs": [],
   "source": [
    "gs.vertex_df[['_nx_name', 'roiInfo']]"
   ]
  },
  {
   "cell_type": "code",
   "execution_count": null,
   "metadata": {},
   "outputs": [],
   "source": [
    "gs.vertex_df.roiInfo.unique()"
   ]
  },
  {
   "cell_type": "code",
   "execution_count": null,
   "metadata": {},
   "outputs": [],
   "source": [
    "import matplotlib.pyplot as plt\n",
    "import matplotlib.patches as patches\n",
    "def show_rgb_color(rgb):\n",
    "    r, g, b = rgb\n",
    "\n",
    "    fig, ax = plt.subplots()\n",
    "    rect = patches.Rectangle((0, 0), 1, 1, facecolor=(r, g, b))\n",
    "    ax.add_patch(rect)\n",
    "    ax.axis('off')\n",
    "    plt.show()\n",
    "\n",
    "def show_rgba_color(rgba):\n",
    "    r, g, b, a = rgba\n",
    "\n",
    "    fig, ax = plt.subplots()\n",
    "    rect = patches.Rectangle((0, 0), 1, 1, facecolor=(r, g, b, a))\n",
    "    ax.add_patch(rect)\n",
    "    ax.axis('off')\n",
    "    plt.show()\n",
    "show_rgb_color((0.0, 0.10980392156862745, 0.4980392156862745))"
   ]
  },
  {
   "cell_type": "code",
   "execution_count": null,
   "metadata": {},
   "outputs": [],
   "source": [
    "summary = SummaryDF(data)"
   ]
  },
  {
   "cell_type": "code",
   "execution_count": null,
   "metadata": {},
   "outputs": [],
   "source": [
    "summary.count_summary()"
   ]
  },
  {
   "cell_type": "code",
   "execution_count": null,
   "metadata": {},
   "outputs": [],
   "source": [
    "summary.conndf.neuron_master['class'].value_counts()"
   ]
  },
  {
   "cell_type": "code",
   "execution_count": null,
   "metadata": {},
   "outputs": [],
   "source": [
    "data.neuron_master.somaNeuromere.unique()"
   ]
  },
  {
   "cell_type": "code",
   "execution_count": null,
   "metadata": {},
   "outputs": [],
   "source": [
    "summary.class_summary()"
   ]
  },
  {
   "cell_type": "code",
   "execution_count": null,
   "metadata": {},
   "outputs": [],
   "source": [
    "summary.MN_summary()"
   ]
  },
  {
   "cell_type": "code",
   "execution_count": null,
   "metadata": {},
   "outputs": [],
   "source": [
    "15 + 15 + 3 + 3 + 9 + 9 + x41 + 38 + 58 + 56 + 61 + 54 + 11 + 11 + 11 + 12 + 14 + 13"
   ]
  },
  {
   "cell_type": "code",
   "execution_count": null,
   "metadata": {},
   "outputs": [],
   "source": [
    "data.neuron_master.pre.min()"
   ]
  },
  {
   "cell_type": "code",
   "execution_count": null,
   "metadata": {},
   "outputs": [],
   "source": [
    "data.neuron_master.pre.max()"
   ]
  },
  {
   "cell_type": "code",
   "execution_count": null,
   "metadata": {},
   "outputs": [],
   "source": [
    "data.neuron_master.post.min()"
   ]
  },
  {
   "cell_type": "code",
   "execution_count": null,
   "metadata": {},
   "outputs": [],
   "source": [
    "data.neuron_master.post.max()"
   ]
  },
  {
   "cell_type": "code",
   "execution_count": null,
   "metadata": {},
   "outputs": [],
   "source": [
    "data.neuron_master.query(f\"pre == {data.neuron_master.pre.min()}\").head()"
   ]
  },
  {
   "cell_type": "code",
   "execution_count": null,
   "metadata": {},
   "outputs": [],
   "source": [
    "data.neuron_master.query(f\"pre == {data.neuron_master.pre.min()}\")[\"class\"].value_counts()"
   ]
  },
  {
   "cell_type": "code",
   "execution_count": null,
   "metadata": {},
   "outputs": [],
   "source": [
    "data.neuron_master.query(f\"pre == {data.neuron_master.pre.max()}\").head()"
   ]
  },
  {
   "cell_type": "code",
   "execution_count": null,
   "metadata": {},
   "outputs": [],
   "source": [
    "data.conn_master.query(\"bodyId_pre == 10016\")"
   ]
  },
  {
   "cell_type": "code",
   "execution_count": null,
   "metadata": {},
   "outputs": [],
   "source": [
    "import matplotlib.pyplot as plt\n",
    "\n",
    "plt.hist(data.conn_master.weight, bins=100000)\n",
    "plt.xscale('log')\n",
    "plt.yscale('log')"
   ]
  },
  {
   "cell_type": "code",
   "execution_count": null,
   "metadata": {},
   "outputs": [],
   "source": [
    "data.conn_master.weight"
   ]
  },
  {
   "cell_type": "code",
   "execution_count": null,
   "metadata": {},
   "outputs": [],
   "source": [
    "import numpy as np\n",
    "connection_strengths = data.conn_master.weight\n",
    "bins = np.logspace(np.log10(min(connection_strengths)), np.log10(max(connection_strengths)), num=10)\n",
    "\n",
    "# Computing the histogram\n",
    "hist, bin_edges = np.histogram(connection_strengths, bins=bins)"
   ]
  },
  {
   "cell_type": "code",
   "execution_count": null,
   "metadata": {},
   "outputs": [],
   "source": [
    "bins"
   ]
  }
 ],
 "metadata": {
  "kernelspec": {
   "display_name": "neurort3.10",
   "language": "python",
   "name": "python3"
  },
  "language_info": {
   "codemirror_mode": {
    "name": "ipython",
    "version": 3
   },
   "file_extension": ".py",
   "mimetype": "text/x-python",
   "name": "python",
   "nbconvert_exporter": "python",
   "pygments_lexer": "ipython3",
   "version": "3.10.8"
  },
  "orig_nbformat": 4
 },
 "nbformat": 4,
 "nbformat_minor": 2
}
